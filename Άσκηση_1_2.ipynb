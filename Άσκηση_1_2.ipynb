{
  "cells": [
    {
      "cell_type": "markdown",
      "metadata": {
        "id": "view-in-github",
        "colab_type": "text"
      },
      "source": [
        "<a href=\"https://colab.research.google.com/github/antokoufis/pms_blockchain/blob/main/%CE%86%CF%83%CE%BA%CE%B7%CF%83%CE%B7_1_2.ipynb\" target=\"_parent\"><img src=\"https://colab.research.google.com/assets/colab-badge.svg\" alt=\"Open In Colab\"/></a>"
      ]
    },
    {
      "cell_type": "code",
      "execution_count": null,
      "metadata": {
        "colab": {
          "base_uri": "https://localhost:8080/",
          "height": 237
        },
        "id": "cIpwJbKGwusa",
        "outputId": "60161b86-97db-4d86-e4cf-f89b9e2f4183"
      },
      "outputs": [
        {
          "ename": "TypeError",
          "evalue": "ignored",
          "output_type": "error",
          "traceback": [
            "\u001b[0;31m---------------------------------------------------------------------------\u001b[0m",
            "\u001b[0;31mTypeError\u001b[0m                                 Traceback (most recent call last)",
            "\u001b[0;32m<ipython-input-35-a57e7a25dbd3>\u001b[0m in \u001b[0;36m<module>\u001b[0;34m()\u001b[0m\n\u001b[1;32m      1\u001b[0m \u001b[0;32mimport\u001b[0m \u001b[0mhashlib\u001b[0m\u001b[0;34m\u001b[0m\u001b[0;34m\u001b[0m\u001b[0m\n\u001b[1;32m      2\u001b[0m \u001b[0;34m\u001b[0m\u001b[0m\n\u001b[0;32m----> 3\u001b[0;31m \u001b[0mtext\u001b[0m \u001b[0;34m=\u001b[0m \u001b[0mbin\u001b[0m\u001b[0;34m(\u001b[0m\u001b[0;34m\"This is a plain text\"\u001b[0m\u001b[0;34m)\u001b[0m\u001b[0;34m\u001b[0m\u001b[0;34m\u001b[0m\u001b[0m\n\u001b[0m\u001b[1;32m      4\u001b[0m \u001b[0mbinaries\u001b[0m \u001b[0;34m=\u001b[0m \u001b[0;34m[\u001b[0m\u001b[0;34m]\u001b[0m \u001b[0;34m*\u001b[0m \u001b[0;36m100\u001b[0m\u001b[0;34m\u001b[0m\u001b[0;34m\u001b[0m\u001b[0m\n\u001b[1;32m      5\u001b[0m \u001b[0mhash_sha256\u001b[0m \u001b[0;34m=\u001b[0m \u001b[0;34m[\u001b[0m\u001b[0;34m]\u001b[0m \u001b[0;34m*\u001b[0m \u001b[0;36m100\u001b[0m\u001b[0;34m\u001b[0m\u001b[0;34m\u001b[0m\u001b[0m\n",
            "\u001b[0;31mTypeError\u001b[0m: 'str' object cannot be interpreted as an integer"
          ]
        }
      ],
      "source": [
        "import hashlib\n",
        "\n",
        "text = \"This is a plain text\"\n",
        "binaries = [] * 100\n",
        "hash_sha256 = [] * 100\n",
        "\n",
        "def toBinary(a):\n",
        "  l,m=[],[]\n",
        "  for i in a:\n",
        "    l.append(ord(i))\n",
        "  for i in l:\n",
        "    m.append(int(bin(i)[2:]))\n",
        "  return m\n",
        "\n",
        "for p in range(100):\n",
        "  binaries.append(toBinary(text))\n",
        "  \n",
        "\n",
        "\n"
      ]
    },
    {
      "cell_type": "code",
      "execution_count": null,
      "metadata": {
        "id": "ek-Jf6W532rO"
      },
      "outputs": [],
      "source": [
        "binaries = [] * 100\n",
        "\n",
        "def gray(n): return n ^ n >> 1\n",
        "\n",
        "\n",
        "for i in range(100): \n",
        "  binaries.append(hashlib.sha256(format(gray(i), '03b')))\n",
        "  "
      ]
    },
    {
      "cell_type": "code",
      "execution_count": null,
      "metadata": {
        "colab": {
          "background_save": true
        },
        "id": "dYI93Uv-6nd5",
        "outputId": "13aebced-6bb0-4669-d0ad-7a70ce7c147f"
      },
      "outputs": [
        {
          "name": "stdout",
          "output_type": "stream",
          "text": [
            "<sha256 HASH object @ 0x7fb1f921f2a0>\n"
          ]
        }
      ],
      "source": [
        "import hashlib\n",
        "\n",
        "text = \"This is a plain text\"\n",
        "encoded = text.encode(\"utf-8\")\n",
        "\n",
        "hash_sha256 = hashlib.sha256(encoded) \n",
        "\n",
        "print)()\n"
      ]
    }
  ],
  "metadata": {
    "colab": {
      "name": "Άσκηση_1_2.ipynb",
      "provenance": [],
      "authorship_tag": "ABX9TyMrC4dej3+U7nMeylkX2e1y",
      "include_colab_link": true
    },
    "kernelspec": {
      "display_name": "Python 3",
      "name": "python3"
    },
    "language_info": {
      "name": "python"
    }
  },
  "nbformat": 4,
  "nbformat_minor": 0
}